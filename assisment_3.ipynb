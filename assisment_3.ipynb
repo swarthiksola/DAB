{
  "nbformat": 4,
  "nbformat_minor": 0,
  "metadata": {
    "colab": {
      "provenance": [],
      "authorship_tag": "ABX9TyPzdqwmrJ0qwcyckxvl3Wp0",
      "include_colab_link": true
    },
    "kernelspec": {
      "name": "python3",
      "display_name": "Python 3"
    },
    "language_info": {
      "name": "python"
    }
  },
  "cells": [
    {
      "cell_type": "markdown",
      "metadata": {
        "id": "view-in-github",
        "colab_type": "text"
      },
      "source": [
        "<a href=\"https://colab.research.google.com/github/swarthiksola/DAB/blob/main/assisment_3.ipynb\" target=\"_parent\"><img src=\"https://colab.research.google.com/assets/colab-badge.svg\" alt=\"Open In Colab\"/></a>"
      ]
    },
    {
      "cell_type": "code",
      "execution_count": null,
      "metadata": {
        "colab": {
          "base_uri": "https://localhost:8080/"
        },
        "id": "-IL2eKDIWc3n",
        "outputId": "79e98389-7448-4120-8e80-cec5eb1ebe37"
      },
      "outputs": [
        {
          "output_type": "stream",
          "name": "stdout",
          "text": [
            "Emails Dataset:\n",
            "          Email No.          the           to          ect          and  \\\n",
            "count         5172  5172.000000  5172.000000  5172.000000  5172.000000   \n",
            "unique        5172          NaN          NaN          NaN          NaN   \n",
            "top     Email 5172          NaN          NaN          NaN          NaN   \n",
            "freq             1          NaN          NaN          NaN          NaN   \n",
            "mean           NaN     6.640565     6.188128     5.143852     3.075599   \n",
            "std            NaN    11.745009     9.534576    14.101142     6.045970   \n",
            "min            NaN     0.000000     0.000000     1.000000     0.000000   \n",
            "25%            NaN     0.000000     1.000000     1.000000     0.000000   \n",
            "50%            NaN     3.000000     3.000000     1.000000     1.000000   \n",
            "75%            NaN     8.000000     7.000000     4.000000     3.000000   \n",
            "max            NaN   210.000000   132.000000   344.000000    89.000000   \n",
            "\n",
            "                for           of            a          you          hou  ...  \\\n",
            "count   5172.000000  5172.000000  5172.000000  5172.000000  5172.000000  ...   \n",
            "unique          NaN          NaN          NaN          NaN          NaN  ...   \n",
            "top             NaN          NaN          NaN          NaN          NaN  ...   \n",
            "freq            NaN          NaN          NaN          NaN          NaN  ...   \n",
            "mean       3.124710     2.627030    55.517401     2.466551     2.024362  ...   \n",
            "std        4.680522     6.229845    87.574172     4.314444     6.967878  ...   \n",
            "min        0.000000     0.000000     0.000000     0.000000     0.000000  ...   \n",
            "25%        1.000000     0.000000    12.000000     0.000000     0.000000  ...   \n",
            "50%        2.000000     1.000000    28.000000     1.000000     0.000000  ...   \n",
            "75%        4.000000     2.000000    62.250000     3.000000     1.000000  ...   \n",
            "max       47.000000    77.000000  1898.000000    70.000000   167.000000  ...   \n",
            "\n",
            "           connevey          jay       valued          lay  infrastructure  \\\n",
            "count   5172.000000  5172.000000  5172.000000  5172.000000     5172.000000   \n",
            "unique          NaN          NaN          NaN          NaN             NaN   \n",
            "top             NaN          NaN          NaN          NaN             NaN   \n",
            "freq            NaN          NaN          NaN          NaN             NaN   \n",
            "mean       0.005027     0.012568     0.010634     0.098028        0.004254   \n",
            "std        0.105788     0.199682     0.116693     0.569532        0.096252   \n",
            "min        0.000000     0.000000     0.000000     0.000000        0.000000   \n",
            "25%        0.000000     0.000000     0.000000     0.000000        0.000000   \n",
            "50%        0.000000     0.000000     0.000000     0.000000        0.000000   \n",
            "75%        0.000000     0.000000     0.000000     0.000000        0.000000   \n",
            "max        4.000000     7.000000     2.000000    12.000000        3.000000   \n",
            "\n",
            "           military     allowing           ff          dry   Prediction  \n",
            "count   5172.000000  5172.000000  5172.000000  5172.000000  5172.000000  \n",
            "unique          NaN          NaN          NaN          NaN          NaN  \n",
            "top             NaN          NaN          NaN          NaN          NaN  \n",
            "freq            NaN          NaN          NaN          NaN          NaN  \n",
            "mean       0.006574     0.004060     0.914733     0.006961     0.290023  \n",
            "std        0.138908     0.072145     2.780203     0.098086     0.453817  \n",
            "min        0.000000     0.000000     0.000000     0.000000     0.000000  \n",
            "25%        0.000000     0.000000     0.000000     0.000000     0.000000  \n",
            "50%        0.000000     0.000000     0.000000     0.000000     0.000000  \n",
            "75%        0.000000     0.000000     1.000000     0.000000     1.000000  \n",
            "max        4.000000     3.000000   114.000000     4.000000     1.000000  \n",
            "\n",
            "[11 rows x 3002 columns] \n",
            "\n"
          ]
        }
      ],
      "source": [
        "import pandas as pd\n",
        "import matplotlib.pyplot as plt\n",
        "import zipfile\n",
        "import os\n",
        "\n",
        "file5_zip = \"/content/emails.csv.zip\"\n",
        "extracted_dir = \"/content/extracted_emails\"\n",
        "file5_csv = os.path.join(extracted_dir, \"emails.csv\")\n",
        "\n",
        "# Create a directory to extract the zip file\n",
        "os.makedirs(extracted_dir, exist_ok=True)\n",
        "\n",
        "# Extract the zip file\n",
        "with zipfile.ZipFile(file5_zip, 'r') as zip_ref:\n",
        "    zip_ref.extractall(extracted_dir)\n",
        "\n",
        "# Read the emails CSV file\n",
        "df5 = pd.read_csv(file5_csv)\n",
        "\n",
        "# Since only the emails dataset is available, we will only display its description.\n",
        "print(\"Emails Dataset:\\n\", df5.describe(include='all'), \"\\n\")"
      ]
    }
  ]
}